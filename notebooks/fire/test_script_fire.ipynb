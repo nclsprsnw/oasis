{
 "cells": [
  {
   "cell_type": "code",
   "execution_count": 1,
   "id": "bb6b9d5c",
   "metadata": {},
   "outputs": [],
   "source": [
    "from script_fire import fire_csv"
   ]
  },
  {
   "cell_type": "code",
   "execution_count": 2,
   "id": "b880564c",
   "metadata": {},
   "outputs": [
    {
     "name": "stdout",
     "output_type": "stream",
     "text": [
      "Data fire shape: (29723, 7)\n",
      "Data fire only code metro: (26021, 7)\n",
      "Data fire with INSEE code: (25831, 16)\n",
      "Data fire with department area: (25831, 17)\n",
      "Agg data fire: (1668, 6)\n",
      "Agg data fire + two columns: (1668, 8)\n",
      "Data fire + agg data fire: (25831, 19)\n"
     ]
    }
   ],
   "source": [
    "df_final = fire_csv()"
   ]
  },
  {
   "cell_type": "code",
   "execution_count": 3,
   "id": "eac22a6a",
   "metadata": {},
   "outputs": [
    {
     "name": "stdout",
     "output_type": "stream",
     "text": [
      "fire score department by quarter: (1668, 3)\n"
     ]
    }
   ],
   "source": [
    "print('fire score department by quarter:', df_final.shape)"
   ]
  },
  {
   "cell_type": "code",
   "execution_count": null,
   "id": "da48ee92",
   "metadata": {},
   "outputs": [],
   "source": [
    "df_final.to_csv('data_risk_fire.csv', index=False)"
   ]
  },
  {
   "cell_type": "code",
   "execution_count": 4,
   "id": "fbe1f72f",
   "metadata": {},
   "outputs": [
    {
     "data": {
      "text/html": [
       "<div>\n",
       "<style scoped>\n",
       "    .dataframe tbody tr th:only-of-type {\n",
       "        vertical-align: middle;\n",
       "    }\n",
       "\n",
       "    .dataframe tbody tr th {\n",
       "        vertical-align: top;\n",
       "    }\n",
       "\n",
       "    .dataframe thead th {\n",
       "        text-align: right;\n",
       "    }\n",
       "</style>\n",
       "<table border=\"1\" class=\"dataframe\">\n",
       "  <thead>\n",
       "    <tr style=\"text-align: right;\">\n",
       "      <th></th>\n",
       "      <th>department</th>\n",
       "      <th>year_quarter</th>\n",
       "      <th>fire_score</th>\n",
       "    </tr>\n",
       "  </thead>\n",
       "  <tbody>\n",
       "    <tr>\n",
       "      <th>824</th>\n",
       "      <td>41</td>\n",
       "      <td>2014T1</td>\n",
       "      <td>0.0</td>\n",
       "    </tr>\n",
       "    <tr>\n",
       "      <th>598</th>\n",
       "      <td>33</td>\n",
       "      <td>2014T1</td>\n",
       "      <td>0.0</td>\n",
       "    </tr>\n",
       "    <tr>\n",
       "      <th>1133</th>\n",
       "      <td>63</td>\n",
       "      <td>2014T1</td>\n",
       "      <td>0.0</td>\n",
       "    </tr>\n",
       "    <tr>\n",
       "      <th>1610</th>\n",
       "      <td>88</td>\n",
       "      <td>2014T1</td>\n",
       "      <td>0.0</td>\n",
       "    </tr>\n",
       "    <tr>\n",
       "      <th>516</th>\n",
       "      <td>30</td>\n",
       "      <td>2014T1</td>\n",
       "      <td>0.0</td>\n",
       "    </tr>\n",
       "  </tbody>\n",
       "</table>\n",
       "</div>"
      ],
      "text/plain": [
       "     department year_quarter  fire_score\n",
       "824          41       2014T1         0.0\n",
       "598          33       2014T1         0.0\n",
       "1133         63       2014T1         0.0\n",
       "1610         88       2014T1         0.0\n",
       "516          30       2014T1         0.0"
      ]
     },
     "execution_count": 4,
     "metadata": {},
     "output_type": "execute_result"
    }
   ],
   "source": [
    "df_final.head()"
   ]
  },
  {
   "cell_type": "code",
   "execution_count": 5,
   "id": "9e59c752",
   "metadata": {},
   "outputs": [
    {
     "name": "stdout",
     "output_type": "stream",
     "text": [
      "Index(['code', 'nom', 'geometry'], dtype='object')\n"
     ]
    }
   ],
   "source": [
    "import geopandas as gpd\n",
    "\n",
    "gdf = gpd.read_file(\n",
    "    \"https://raw.githubusercontent.com/gregoiredavid/france-geojson/master/departements.geojson\"\n",
    ")\n",
    "\n",
    "print(gdf.columns)"
   ]
  },
  {
   "cell_type": "code",
   "execution_count": 9,
   "id": "398c3100",
   "metadata": {},
   "outputs": [
    {
     "name": "stdout",
     "output_type": "stream",
     "text": [
      "(1668, 5)\n"
     ]
    },
    {
     "data": {
      "text/html": [
       "<div>\n",
       "<style scoped>\n",
       "    .dataframe tbody tr th:only-of-type {\n",
       "        vertical-align: middle;\n",
       "    }\n",
       "\n",
       "    .dataframe tbody tr th {\n",
       "        vertical-align: top;\n",
       "    }\n",
       "\n",
       "    .dataframe thead th {\n",
       "        text-align: right;\n",
       "    }\n",
       "</style>\n",
       "<table border=\"1\" class=\"dataframe\">\n",
       "  <thead>\n",
       "    <tr style=\"text-align: right;\">\n",
       "      <th></th>\n",
       "      <th>code</th>\n",
       "      <th>nom</th>\n",
       "      <th>geometry</th>\n",
       "      <th>year_quarter</th>\n",
       "      <th>fire_score</th>\n",
       "    </tr>\n",
       "  </thead>\n",
       "  <tbody>\n",
       "    <tr>\n",
       "      <th>0</th>\n",
       "      <td>2A</td>\n",
       "      <td>Corse-du-Sud</td>\n",
       "      <td>MULTIPOLYGON (((8.5864 41.87389, 8.58667 41.87...</td>\n",
       "      <td>2014T1</td>\n",
       "      <td>0.0</td>\n",
       "    </tr>\n",
       "    <tr>\n",
       "      <th>1</th>\n",
       "      <td>2A</td>\n",
       "      <td>Corse-du-Sud</td>\n",
       "      <td>MULTIPOLYGON (((8.5864 41.87389, 8.58667 41.87...</td>\n",
       "      <td>2014T2</td>\n",
       "      <td>1.0</td>\n",
       "    </tr>\n",
       "    <tr>\n",
       "      <th>2</th>\n",
       "      <td>2A</td>\n",
       "      <td>Corse-du-Sud</td>\n",
       "      <td>MULTIPOLYGON (((8.5864 41.87389, 8.58667 41.87...</td>\n",
       "      <td>2014T3</td>\n",
       "      <td>1.0</td>\n",
       "    </tr>\n",
       "    <tr>\n",
       "      <th>3</th>\n",
       "      <td>2A</td>\n",
       "      <td>Corse-du-Sud</td>\n",
       "      <td>MULTIPOLYGON (((8.5864 41.87389, 8.58667 41.87...</td>\n",
       "      <td>2014T4</td>\n",
       "      <td>1.0</td>\n",
       "    </tr>\n",
       "    <tr>\n",
       "      <th>4</th>\n",
       "      <td>2A</td>\n",
       "      <td>Corse-du-Sud</td>\n",
       "      <td>MULTIPOLYGON (((8.5864 41.87389, 8.58667 41.87...</td>\n",
       "      <td>2015T1</td>\n",
       "      <td>0.0</td>\n",
       "    </tr>\n",
       "  </tbody>\n",
       "</table>\n",
       "</div>"
      ],
      "text/plain": [
       "  code           nom                                           geometry  \\\n",
       "0   2A  Corse-du-Sud  MULTIPOLYGON (((8.5864 41.87389, 8.58667 41.87...   \n",
       "1   2A  Corse-du-Sud  MULTIPOLYGON (((8.5864 41.87389, 8.58667 41.87...   \n",
       "2   2A  Corse-du-Sud  MULTIPOLYGON (((8.5864 41.87389, 8.58667 41.87...   \n",
       "3   2A  Corse-du-Sud  MULTIPOLYGON (((8.5864 41.87389, 8.58667 41.87...   \n",
       "4   2A  Corse-du-Sud  MULTIPOLYGON (((8.5864 41.87389, 8.58667 41.87...   \n",
       "\n",
       "  year_quarter  fire_score  \n",
       "0       2014T1         0.0  \n",
       "1       2014T2         1.0  \n",
       "2       2014T3         1.0  \n",
       "3       2014T4         1.0  \n",
       "4       2015T1         0.0  "
      ]
     },
     "execution_count": 9,
     "metadata": {},
     "output_type": "execute_result"
    }
   ],
   "source": [
    "gdf_merged = gdf.merge(df_final, \n",
    "                       left_on='code', \n",
    "                       right_on='department', \n",
    "                       how='inner') \\\n",
    "                .drop(columns='department')\n",
    "print(gdf_merged.shape)\n",
    "gdf_merged.head()"
   ]
  },
  {
   "cell_type": "code",
   "execution_count": null,
   "id": "c1c3610a",
   "metadata": {},
   "outputs": [],
   "source": [
    "fig = px.choropleth(\n",
    "    gdf_merged,\n",
    "    geojson=gdf,\n",
    "    locations='code',            # colonne dans ton DataFrame\n",
    "    featureidkey='properties.code',    # chemin dans le GeoJSON\n",
    "    color='fire_score',\n",
    "    animation_frame='year_quarter',    # variable temporelle\n",
    "    color_continuous_scale='Reds',\n",
    "    range_color=(0, 3),                # 0 = Low, 3 = Critical\n",
    "    labels={'fire_score': 'Fire Score'},\n",
    "    title='Fire Risk Score by Department Over Time'\n",
    ")\n",
    "\n",
    "fig.update_geos(fitbounds=\"locations\", visible=False)\n",
    "fig.update_layout(margin={\"r\":0,\"t\":40,\"l\":0,\"b\":0})\n",
    "fig.show()\n"
   ]
  }
 ],
 "metadata": {
  "kernelspec": {
   "display_name": "main",
   "language": "python",
   "name": "python3"
  },
  "language_info": {
   "codemirror_mode": {
    "name": "ipython",
    "version": 3
   },
   "file_extension": ".py",
   "mimetype": "text/x-python",
   "name": "python",
   "nbconvert_exporter": "python",
   "pygments_lexer": "ipython3",
   "version": "3.12.3"
  }
 },
 "nbformat": 4,
 "nbformat_minor": 5
}
