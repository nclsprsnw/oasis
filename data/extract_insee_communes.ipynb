{
 "cells": [
  {
   "cell_type": "code",
   "execution_count": 1,
   "id": "5f0ada8e",
   "metadata": {},
   "outputs": [
    {
     "name": "stdout",
     "output_type": "stream",
     "text": [
      "0\n",
      "Fichier sauvegardé : ref_espace_communes.csv\n",
      "      code_commune_INSEE code_postal code_region\n",
      "38705              95610       95450          11\n",
      "38706              95611       95810          11\n",
      "38707              95612       95500          11\n",
      "38708              95625       95450          11\n",
      "38709              95627       95810          11\n",
      "38710              95628       95760          11\n",
      "38711              95633       95500          11\n",
      "38712              95637       95490          11\n",
      "38713              95641       95470          11\n",
      "38714              95651       95510          11\n",
      "38715              95652       95270          11\n",
      "38716              95656       95510          11\n",
      "38717              95658       95450          11\n",
      "38718              95660       95570          11\n",
      "38719              95675       95380          11\n",
      "38720              95676       95510          11\n",
      "38721              95678       95840          11\n",
      "38722              95680       95400          11\n",
      "38723              95682       95720          11\n",
      "38724              95690       95420          11\n"
     ]
    }
   ],
   "source": [
    "import pandas as pd\n",
    "\n",
    "df = pd.read_csv(\"20230823-communes-departement-region.csv\", dtype=str)\n",
    "\n",
    "\n",
    "df['code_commune_INSEE'] = df['code_commune_INSEE'].str.zfill(5)\n",
    "df['code_postal'] = df['code_postal'].str.zfill(5)\n",
    "\n",
    "\n",
    "colonnes_a_supprimer = [\n",
    "    'nom_commune_postal', 'libelle_acheminement', 'ligne_5',\n",
    "    'code_commune', 'article', 'nom_commune', 'code_departement'\n",
    "]\n",
    "df = df.drop(columns=[col for col in colonnes_a_supprimer if col in df.columns])\n",
    "\n",
    "\n",
    "codes_a_supprimer = ['1', '2', '3', '4', '6']\n",
    "df = df[~df['code_region'].isin(codes_a_supprimer)]\n",
    "\n",
    "\n",
    "df = df[df['code_commune_INSEE'] <= '95690']\n",
    "\n",
    "df = df.drop_duplicates(subset='code_commune_INSEE')\n",
    "print(df.duplicated().sum())\n",
    "\n",
    "\n",
    "df.to_csv(\"ref_espace_communes.csv\", index=False)\n",
    "print(\"Fichier sauvegardé : ref_espace_communes.csv\")\n",
    "print(df[['code_commune_INSEE', 'code_postal', 'code_region']].tail(20))\n"
   ]
  }
 ],
 "metadata": {
  "kernelspec": {
   "display_name": "oasis",
   "language": "python",
   "name": "python3"
  },
  "language_info": {
   "codemirror_mode": {
    "name": "ipython",
    "version": 3
   },
   "file_extension": ".py",
   "mimetype": "text/x-python",
   "name": "python",
   "nbconvert_exporter": "python",
   "pygments_lexer": "ipython3",
   "version": "3.12.3"
  }
 },
 "nbformat": 4,
 "nbformat_minor": 5
}
