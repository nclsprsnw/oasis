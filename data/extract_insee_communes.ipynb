{
 "cells": [
  {
   "cell_type": "code",
   "execution_count": null,
   "id": "5f0ada8e",
   "metadata": {},
   "outputs": [],
   "source": [
    "import pandas as pd\n",
    "\n",
    "\n",
    "df = pd.read_csv(\"20230823-communes-departement-region.csv\", dtype=str) \n",
    "\n",
    "df['code_commune_INSEE'] = df['code_commune_INSEE'].str.zfill(5)\n",
    "\n",
    "df['code_postal'] = df['code_postal'].str.zfill(5)\n",
    "\n",
    "colonnes_a_supprimer = [\n",
    "    'nom_commune_postal', 'libelle_acheminement', 'ligne_5',\n",
    "    'code_commune', 'article', 'nom_commune', 'code_departement'\n",
    "]\n",
    "df = df.drop(columns=[col for col in colonnes_a_supprimer if col in df.columns])\n",
    "\n",
    "\n",
    "df.to_csv(\"ref_espace_communes.csv\", index=False)\n",
    "print(\"Fichier sauvegardé :ref_espace_communes.csv\")\n",
    "\n",
    "print(df[['code_commune_INSEE', 'code_postal', 'code_region']].head(20))"
   ]
  }
 ],
 "metadata": {
  "kernelspec": {
   "display_name": "jedha-dsfs-ft-35",
   "language": "python",
   "name": "python3"
  },
  "language_info": {
   "codemirror_mode": {
    "name": "ipython",
    "version": 3
   },
   "file_extension": ".py",
   "mimetype": "text/x-python",
   "name": "python",
   "nbconvert_exporter": "python",
   "pygments_lexer": "ipython3",
   "version": "3.12.11"
  }
 },
 "nbformat": 4,
 "nbformat_minor": 5
}
