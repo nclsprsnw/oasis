{
 "cells": [
  {
   "cell_type": "code",
   "execution_count": null,
   "id": "5f0ada8e",
   "metadata": {},
   "outputs": [
    {
     "name": "stdout",
     "output_type": "stream",
     "text": [
      "Fichier sauvegardé : coordonnées_cleaned.csv\n",
      "   code_commune_INSEE code_postal code_region\n",
      "0               01001       01400          84\n",
      "1               01002       01640          84\n",
      "2               01004       01500          84\n",
      "3               01005       01330          84\n",
      "4               01006       01300          84\n",
      "5               01007       01500          84\n",
      "6               01008       01500          84\n",
      "7               01009       01300          84\n",
      "8               01010       01350          84\n",
      "9               01011       01100          84\n",
      "10              01012       01110          84\n",
      "11              01013       01230          84\n",
      "12              01014       01100          84\n",
      "13              01015       01300          84\n",
      "14              01015       01300          84\n",
      "15              01016       01190          84\n",
      "16              01017       01230          84\n",
      "17              01019       01510          84\n",
      "18              01021       01480          84\n",
      "19              01022       01510          84\n"
     ]
    }
   ],
   "source": [
    "import pandas as pd\n",
    "\n",
    "\n",
    "df = pd.read_csv(\"20230823-communes-departement-region.csv\", dtype=str) \n",
    "\n",
    "df['code_commune_INSEE'] = df['code_commune_INSEE'].str.zfill(5)\n",
    "\n",
    "df['code_postal'] = df['code_postal'].str.zfill(5)\n",
    "\n",
    "colonnes_a_supprimer = [\n",
    "    'nom_commune_postal', 'libelle_acheminement', 'ligne_5',\n",
    "    'code_commune', 'article', 'nom_commune', 'code_departement'\n",
    "]\n",
    "df = df.drop(columns=[col for col in colonnes_a_supprimer if col in df.columns])\n",
    "\n",
    "\n",
    "df.to_csv(\"ref_espace_communes.csv\", index=False)\n",
    "print(\"Fichier sauvegardé :ref_espace_communes.csv\")\n",
    "\n",
    "print(df[['code_commune_INSEE', 'code_postal', 'code_region']].head(20))"
   ]
  }
 ],
 "metadata": {
  "kernelspec": {
   "display_name": "rapha",
   "language": "python",
   "name": "python3"
  },
  "language_info": {
   "codemirror_mode": {
    "name": "ipython",
    "version": 3
   },
   "file_extension": ".py",
   "mimetype": "text/x-python",
   "name": "python",
   "nbconvert_exporter": "python",
   "pygments_lexer": "ipython3",
   "version": "3.13.2"
  }
 },
 "nbformat": 4,
 "nbformat_minor": 5
}
